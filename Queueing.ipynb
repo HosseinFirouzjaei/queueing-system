{
 "cells": [
  {
   "cell_type": "code",
   "execution_count": 4,
   "id": "8eb82af9-dbe6-48ba-938c-b6a674f728e5",
   "metadata": {},
   "outputs": [
    {
     "ename": "NameError",
     "evalue": "name 'FadingChannel' is not defined",
     "output_type": "error",
     "traceback": [
      "\u001b[1;31m---------------------------------------------------------------------------\u001b[0m",
      "\u001b[1;31mNameError\u001b[0m                                 Traceback (most recent call last)",
      "Cell \u001b[1;32mIn[4], line 18\u001b[0m\n\u001b[0;32m     14\u001b[0m a2_t \u001b[38;5;241m=\u001b[39m np\u001b[38;5;241m.\u001b[39mrandom\u001b[38;5;241m.\u001b[39mpoisson(lambda_2)\n\u001b[0;32m     16\u001b[0m \u001b[38;5;66;03m# Generate data transferred\u001b[39;00m\n\u001b[1;32m---> 18\u001b[0m RX1_Power \u001b[38;5;241m=\u001b[39m FadingChannel(TX1_Power, TX1_fading_samples) \u001b[38;5;66;03m# Received power in RX1\u001b[39;00m\n\u001b[0;32m     19\u001b[0m [SNR_RX1, Rate_RX1, Data_TX1] \u001b[38;5;241m=\u001b[39m calculate_transferred_data(RX1_Power, RX1_Noise_Power, TX1_Bandwidth, TX1_communication_time)\n\u001b[0;32m     20\u001b[0m Harvested_power_TX1 \u001b[38;5;241m=\u001b[39m calculate_harvested_power(Harvesting_power_TX1, EH_eta, EH_fading_samples) \u001b[38;5;66;03m# harvested energy at TX2\u001b[39;00m\n",
      "\u001b[1;31mNameError\u001b[0m: name 'FadingChannel' is not defined"
     ]
    }
   ],
   "source": [
    "# Initialize parameters\n",
    "T = 100000  # Number of time steps\n",
    "lambda_1 = 1.5  # Arrival rate for queue 1\n",
    "lambda_2 = 0.7  # Arrival rate for queue 2\n",
    "\n",
    "# Initialize queues\n",
    "Q1 = np.zeros(T+1)\n",
    "Q2 = np.zeros(T+1)\n",
    "\n",
    "# Simulate the system\n",
    "for t in range(T):\n",
    "    # Generate arrivals (according to a Poisson process)\n",
    "    a1_t = np.random.poisson(lambda_1)\n",
    "    a2_t = np.random.poisson(lambda_2)\n",
    "    \n",
    "    # Generate data transferred\n",
    "\n",
    "    RX1_Power = FadingChannel(TX1_Power, TX1_fading_samples) # Received power in RX1\n",
    "    [SNR_RX1, Rate_RX1, Data_TX1] = calculate_transferred_data(RX1_Power, RX1_Noise_Power, TX1_Bandwidth, TX1_communication_time)\n",
    "    Harvested_power_TX1 = calculate_harvested_power(Harvesting_power_TX1, EH_eta, EH_fading_samples) # harvested energy at TX2\n",
    "    RX2_Power = FadingChannel(Harvested_power_TX1, TX2_fading_samples) # Received power in RX1\n",
    "    [SNR_RX2, Rate_RX2, Data_TX2] = calculate_transferred_data(RX2_Power, RX2_Noise_Power, TX2_Bandwidth, TX2_communication_time)\n",
    "\n",
    "    D1_t = Data_TX1  # data transferred for queue 1\n",
    "    D2_t = Data_TX2  # data transferred for queue 2\n",
    "    \n",
    "    # Update queues\n",
    "    Q1[t+1] = Q1[t] - D1_t + a1_t\n",
    "    Q2[t+1] = Q2[t] - D2_t + a2_t\n",
    "\n",
    "# Plotting the queues over time\n",
    "import matplotlib.pyplot as plt\n",
    "\n",
    "time = np.arange(T+1)\n",
    "\n",
    "plt.figure(figsize=(10, 6))\n",
    "plt.plot(time, Q1, label='Queue 1')\n",
    "plt.plot(time, Q2, label='Queue 2')\n",
    "plt.xlabel('Time')\n",
    "plt.ylabel('Queue size')\n",
    "plt.title('Queue size over time')\n",
    "plt.legend()\n",
    "plt.grid(True)\n",
    "plt.show()"
   ]
  },
  {
   "cell_type": "code",
   "execution_count": null,
   "id": "c4b6f125-d306-43a6-b127-d5e1f0093400",
   "metadata": {},
   "outputs": [],
   "source": []
  }
 ],
 "metadata": {
  "kernelspec": {
   "display_name": "Python 3 (ipykernel)",
   "language": "python",
   "name": "python3"
  },
  "language_info": {
   "codemirror_mode": {
    "name": "ipython",
    "version": 3
   },
   "file_extension": ".py",
   "mimetype": "text/x-python",
   "name": "python",
   "nbconvert_exporter": "python",
   "pygments_lexer": "ipython3",
   "version": "3.11.5"
  }
 },
 "nbformat": 4,
 "nbformat_minor": 5
}
