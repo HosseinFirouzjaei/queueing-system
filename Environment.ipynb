{
 "cells": [
  {
   "cell_type": "code",
   "execution_count": 117,
   "id": "094bd049-cb05-4315-84cf-afca0587ce69",
   "metadata": {},
   "outputs": [],
   "source": [
    "import numpy as np\n",
    "import math\n",
    "\n",
    "P_max = 0.00015\n",
    "TX1_Power = 0.00010 # transfer power of TX1 in watt\n",
    "TX1_fading_samples = 1000 # Number of fading samples in the channel between TX1 and RX1\n",
    "RX1_Noise_Power = pow(10,-5) # Noise power in watt\n",
    "TX1_Bandwidth = pow(10,3) # Bandwidth of the communication channel between TX1 and RX1\n",
    "TX1_communication_time = 0.0003 # Communication time TX1-RX1\n",
    "\n",
    "Harvesting_power_TX1 = P_max - TX1_Power  # Power that TX1 allocates for energy harvesting\n",
    "EH_eta = 0.1 # power conversion efficiency\n",
    "energy_harvesting_time = 0.0004\n",
    "EH_fading_samples = 1000\n",
    "\n",
    "TX2_fading_samples = 1000 # Number of fading samples in the channel between TX1 and RX1\n",
    "RX2_Noise_Power = pow(10,-5) # Noise power in watt\n",
    "TX2_Bandwidth = pow(10,3) # Bandwidth of the communication channel between TX1 and RX1\n",
    "TX2_communication_time = 0.0003 # Communication time TX1-RX1\n",
    "\n"
   ]
  },
  {
   "cell_type": "code",
   "execution_count": 118,
   "id": "69785388-00f2-4727-be34-bc2ba62fc869",
   "metadata": {},
   "outputs": [],
   "source": [
    "def FadingChannel(TX_Power, fading_samples):# Rayleigh fading model\n",
    "    # Generate Rayleigh fading samples (complex Gaussian random variables)\n",
    "    fading = np.random.normal(0, 1, fading_samples) + 1j * np.random.normal(0, 1, fading_samples)\n",
    "    \n",
    "    # Calculate received power\n",
    "    received_power = TX_Power * np.abs(fading)**2\n",
    "    \n",
    "    # Calculate average received power\n",
    "    RX_Power = np.mean(received_power)\n",
    "    return RX_Power\n",
    "\n"
   ]
  },
  {
   "cell_type": "code",
   "execution_count": 119,
   "id": "9e494757-5ffd-4e42-8d1d-3c724755452b",
   "metadata": {},
   "outputs": [],
   "source": [
    "def calculate_transferred_data(Received_Power, Noise_Power, Bandwidth, communication_time):\n",
    "    SNR = Received_Power/Noise_Power\n",
    "    Rate = Bandwidth * math.log2(1+SNR)\n",
    "    Data = Rate * communication_time\n",
    "    return SNR, Rate, Data  "
   ]
  },
  {
   "cell_type": "code",
   "execution_count": 120,
   "id": "2e33e034-0c1e-4948-bf17-2b472d0440ee",
   "metadata": {},
   "outputs": [],
   "source": [
    "def calculate_harvested_power(power, eta, EH_fading_samples):\n",
    "    Harvested_power = eta * FadingChannel(power, EH_fading_samples)\n",
    "    return Harvested_power"
   ]
  },
  {
   "cell_type": "code",
   "execution_count": 121,
   "id": "fe149445-e48f-4a5d-a506-cba9ade00463",
   "metadata": {},
   "outputs": [],
   "source": [
    "RX1_Power = FadingChannel(TX1_Power, TX1_fading_samples) # Received power in RX1\n",
    "\n",
    "[SNR_RX1, Rate_RX1, Data_TX1] = calculate_transferred_data(RX1_Power, RX1_Noise_Power, TX1_Bandwidth, TX1_communication_time)\n",
    "\n",
    "Harvested_power_TX1 = calculate_harvested_power(Harvesting_power_TX1, EH_eta, EH_fading_samples) # harvested energy at TX2\n",
    "\n",
    "RX2_Power = FadingChannel(Harvested_power_TX1, TX2_fading_samples) # Received power in RX1\n",
    "\n",
    "[SNR_RX2, Rate_RX2, Data_TX2] = calculate_transferred_data(RX2_Power, RX2_Noise_Power, TX2_Bandwidth, TX2_communication_time)"
   ]
  },
  {
   "cell_type": "code",
   "execution_count": null,
   "id": "f2ccdda9-f424-40b1-884d-c1e599b9ba28",
   "metadata": {},
   "outputs": [],
   "source": []
  }
 ],
 "metadata": {
  "kernelspec": {
   "display_name": "Python 3 (ipykernel)",
   "language": "python",
   "name": "python3"
  },
  "language_info": {
   "codemirror_mode": {
    "name": "ipython",
    "version": 3
   },
   "file_extension": ".py",
   "mimetype": "text/x-python",
   "name": "python",
   "nbconvert_exporter": "python",
   "pygments_lexer": "ipython3",
   "version": "3.11.5"
  }
 },
 "nbformat": 4,
 "nbformat_minor": 5
}
